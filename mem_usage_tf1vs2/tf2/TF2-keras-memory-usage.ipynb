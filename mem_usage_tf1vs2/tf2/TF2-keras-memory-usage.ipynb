{
 "cells": [
  {
   "cell_type": "code",
   "execution_count": 1,
   "metadata": {},
   "outputs": [],
   "source": [
    "import os, psutil, gc\n",
    "\n",
    "import tensorflow as tf\n",
    "from tensorflow.keras.layers import Bidirectional, LSTM, Dense, Activation"
   ]
  },
  {
   "cell_type": "code",
   "execution_count": 2,
   "metadata": {},
   "outputs": [
    {
     "name": "stdout",
     "output_type": "stream",
     "text": [
      "2.2.0\n"
     ]
    }
   ],
   "source": [
    "print(tf.version.VERSION)"
   ]
  },
  {
   "cell_type": "code",
   "execution_count": 3,
   "metadata": {},
   "outputs": [],
   "source": [
    "def mem_usage():\n",
    "    p = psutil.Process(os.getpid())\n",
    "    mem = p.memory_info().rss / 1024 / 1024\n",
    "    return mem"
   ]
  },
  {
   "cell_type": "code",
   "execution_count": 4,
   "metadata": {},
   "outputs": [
    {
     "name": "stdout",
     "output_type": "stream",
     "text": [
      "Baseline memory usage: 228.578125\n"
     ]
    }
   ],
   "source": [
    "baseline = mem_usage()\n",
    "print('Baseline memory usage: {}'.format(baseline))"
   ]
  },
  {
   "cell_type": "code",
   "execution_count": 5,
   "metadata": {},
   "outputs": [],
   "source": [
    "model = tf.keras.models.Sequential()\n",
    "model.add(Bidirectional(LSTM(10, return_sequences=False), input_shape=(5, 10)))\n",
    "model.add(Dense(5))\n",
    "model.add(Activation('softmax'))"
   ]
  },
  {
   "cell_type": "code",
   "execution_count": 6,
   "metadata": {},
   "outputs": [
    {
     "name": "stdout",
     "output_type": "stream",
     "text": [
      "Keras model memory usage: 16.21484375\n",
      "Total memory usage: 244.79296875\n"
     ]
    }
   ],
   "source": [
    "pre_save_mem = mem_usage() - baseline\n",
    "print('Keras model memory usage: {}'.format(pre_save_mem))\n",
    "print('Total memory usage: {}'.format(mem_usage()))"
   ]
  },
  {
   "cell_type": "code",
   "execution_count": 7,
   "metadata": {},
   "outputs": [
    {
     "name": "stdout",
     "output_type": "stream",
     "text": [
      "WARNING:tensorflow:From /Users/nick/miniconda3/envs/tf2/lib/python3.7/site-packages/tensorflow/python/ops/resource_variable_ops.py:1817: calling BaseResourceVariable.__init__ (from tensorflow.python.ops.resource_variable_ops) with constraint is deprecated and will be removed in a future version.\n",
      "Instructions for updating:\n",
      "If using Keras pass *_constraint arguments to layers.\n",
      "INFO:tensorflow:Assets written to: /tmp/tf2/saved_model/assets\n",
      "SavedModel memory usage: 357.5546875\n",
      "Total memory usage: 602.34765625\n"
     ]
    }
   ],
   "source": [
    "model.save('/tmp/tf2/saved_model')\n",
    "saved_model_mem = mem_usage() - baseline - pre_save_mem\n",
    "print('SavedModel memory usage: {}'.format(saved_model_mem))\n",
    "print('Total memory usage: {}'.format(mem_usage()))"
   ]
  },
  {
   "cell_type": "code",
   "execution_count": 8,
   "metadata": {},
   "outputs": [
    {
     "name": "stdout",
     "output_type": "stream",
     "text": [
      "total 4912\r\n",
      "drwxr-xr-x  5 nick  wheel   160B Jul  2 12:25 \u001b[1m\u001b[36m0\u001b[m\u001b[m\r\n",
      "drwxr-xr-x  2 nick  wheel    64B Jul  2 12:20 \u001b[1m\u001b[36massets\u001b[m\u001b[m\r\n",
      "-rw-r--r--  1 nick  wheel   2.4M Jul  2 13:59 saved_model.pb\r\n",
      "drwxr-xr-x  4 nick  wheel   128B Jul  2 13:59 \u001b[1m\u001b[36mvariables\u001b[m\u001b[m\r\n"
     ]
    }
   ],
   "source": [
    "!ls -lh /tmp/tf2/saved_model"
   ]
  },
  {
   "cell_type": "code",
   "execution_count": null,
   "metadata": {},
   "outputs": [],
   "source": []
  }
 ],
 "metadata": {
  "kernelspec": {
   "display_name": "Python 3",
   "language": "python",
   "name": "python3"
  },
  "language_info": {
   "codemirror_mode": {
    "name": "ipython",
    "version": 3
   },
   "file_extension": ".py",
   "mimetype": "text/x-python",
   "name": "python",
   "nbconvert_exporter": "python",
   "pygments_lexer": "ipython3",
   "version": "3.7.7"
  }
 },
 "nbformat": 4,
 "nbformat_minor": 4
}
