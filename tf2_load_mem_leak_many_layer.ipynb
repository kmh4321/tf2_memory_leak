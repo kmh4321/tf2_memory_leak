{
 "cells": [
  {
   "cell_type": "markdown",
   "metadata": {
    "colab_type": "text",
    "id": "view-in-github"
   },
   "source": [
    "<a href=\"https://colab.research.google.com/gist/idfah/dff83de8d2a6406c9b92221e6282a8d6/tf2_load_mem_leak.ipynb\" target=\"_parent\"><img src=\"https://colab.research.google.com/assets/colab-badge.svg\" alt=\"Open In Colab\"/></a>"
   ]
  },
  {
   "cell_type": "code",
   "execution_count": 1,
   "metadata": {
    "colab": {},
    "colab_type": "code",
    "id": "Lz4VytH6nWeT"
   },
   "outputs": [],
   "source": [
    "import os, gc, psutil\n",
    "\n",
    "import math\n",
    "import matplotlib.pyplot as plt\n",
    "import tensorflow as tf\n",
    "from tensorflow import keras\n",
    "\n",
    "from tensorflow.keras.models import Sequential\n",
    "from tensorflow.keras.layers import Dense"
   ]
  },
  {
   "cell_type": "code",
   "execution_count": 2,
   "metadata": {
    "colab": {
     "base_uri": "https://localhost:8080/",
     "height": 34
    },
    "colab_type": "code",
    "id": "r-qdqu2IqHFY",
    "outputId": "184fc6b3-5e3a-4aab-ab2c-eadd1faf117e"
   },
   "outputs": [
    {
     "data": {
      "text/plain": [
       "'2.2.0'"
      ]
     },
     "execution_count": 2,
     "metadata": {},
     "output_type": "execute_result"
    }
   ],
   "source": [
    "tf.version.VERSION"
   ]
  },
  {
   "cell_type": "code",
   "execution_count": 3,
   "metadata": {},
   "outputs": [
    {
     "name": "stdout",
     "output_type": "stream",
     "text": [
      "281.94921875\n"
     ]
    }
   ],
   "source": [
    "p = psutil.Process(os.getpid())\n",
    "cur_memory_usage = p.memory_info().rss / 1024 / 1024\n",
    "print(cur_memory_usage)"
   ]
  },
  {
   "cell_type": "code",
   "execution_count": 4,
   "metadata": {
    "colab": {},
    "colab_type": "code",
    "id": "5IhHO-wynZKC"
   },
   "outputs": [],
   "source": [
    "model = Sequential()\n",
    "model.add(Dense(2, input_dim=10, activation='relu'))\n",
    "model.add(Dense(2, activation='relu'))\n",
    "model.add(Dense(2, activation='relu'))\n",
    "model.add(Dense(2, activation='relu'))\n",
    "model.add(Dense(2, activation='relu'))\n",
    "model.add(Dense(2, activation='relu'))\n",
    "model.add(Dense(2, activation='relu'))\n",
    "model.add(Dense(2, activation='relu'))\n",
    "model.add(Dense(2, activation='relu'))\n",
    "model.add(Dense(2, activation='relu'))\n",
    "model.add(Dense(2, activation='relu'))\n",
    "model.add(Dense(2, activation='relu'))\n",
    "model.add(Dense(2, activation='relu'))\n",
    "model.add(Dense(2, activation='relu'))\n",
    "model.add(Dense(2, activation='relu'))\n",
    "model.add(Dense(2, activation='sigmoid'))\n",
    "# compile the keras model\n",
    "model.compile(loss='binary_crossentropy', optimizer='adam', metrics=['accuracy'])"
   ]
  },
  {
   "cell_type": "code",
   "execution_count": 5,
   "metadata": {
    "colab": {
     "base_uri": "https://localhost:8080/",
     "height": 486
    },
    "colab_type": "code",
    "id": "ftzGjTIcn2En",
    "outputId": "78572fa3-55eb-42fe-9761-b7b68606b96b"
   },
   "outputs": [
    {
     "name": "stdout",
     "output_type": "stream",
     "text": [
      "Model: \"sequential\"\n",
      "_________________________________________________________________\n",
      "Layer (type)                 Output Shape              Param #   \n",
      "=================================================================\n",
      "dense (Dense)                (None, 2)                 22        \n",
      "_________________________________________________________________\n",
      "dense_1 (Dense)              (None, 2)                 6         \n",
      "_________________________________________________________________\n",
      "dense_2 (Dense)              (None, 2)                 6         \n",
      "_________________________________________________________________\n",
      "dense_3 (Dense)              (None, 2)                 6         \n",
      "_________________________________________________________________\n",
      "dense_4 (Dense)              (None, 2)                 6         \n",
      "_________________________________________________________________\n",
      "dense_5 (Dense)              (None, 2)                 6         \n",
      "_________________________________________________________________\n",
      "dense_6 (Dense)              (None, 2)                 6         \n",
      "_________________________________________________________________\n",
      "dense_7 (Dense)              (None, 2)                 6         \n",
      "_________________________________________________________________\n",
      "dense_8 (Dense)              (None, 2)                 6         \n",
      "_________________________________________________________________\n",
      "dense_9 (Dense)              (None, 2)                 6         \n",
      "_________________________________________________________________\n",
      "dense_10 (Dense)             (None, 2)                 6         \n",
      "_________________________________________________________________\n",
      "dense_11 (Dense)             (None, 2)                 6         \n",
      "_________________________________________________________________\n",
      "dense_12 (Dense)             (None, 2)                 6         \n",
      "_________________________________________________________________\n",
      "dense_13 (Dense)             (None, 2)                 6         \n",
      "_________________________________________________________________\n",
      "dense_14 (Dense)             (None, 2)                 6         \n",
      "_________________________________________________________________\n",
      "dense_15 (Dense)             (None, 2)                 6         \n",
      "=================================================================\n",
      "Total params: 112\n",
      "Trainable params: 112\n",
      "Non-trainable params: 0\n",
      "_________________________________________________________________\n",
      "None\n"
     ]
    }
   ],
   "source": [
    "# plot the result\n",
    "print(model.summary())"
   ]
  },
  {
   "cell_type": "code",
   "execution_count": 6,
   "metadata": {
    "colab": {
     "base_uri": "https://localhost:8080/",
     "height": 105
    },
    "colab_type": "code",
    "id": "i4fhMN2xn4kC",
    "outputId": "0ed03573-ae7a-493d-c9fa-7dbdaebb514a"
   },
   "outputs": [
    {
     "name": "stderr",
     "output_type": "stream",
     "text": [
      "WARNING: Logging before flag parsing goes to stderr.\n",
      "W0619 16:03:03.485903 4387093952 deprecation.py:506] From /Users/mkarthik/anaconda3/lib/python3.7/site-packages/tensorflow/python/ops/resource_variable_ops.py:1817: calling BaseResourceVariable.__init__ (from tensorflow.python.ops.resource_variable_ops) with constraint is deprecated and will be removed in a future version.\n",
      "Instructions for updating:\n",
      "If using Keras pass *_constraint arguments to layers.\n"
     ]
    }
   ],
   "source": [
    "# save the model using TensorFlow SavedModel format\n",
    "tf.saved_model.save(model, 'saved_model')"
   ]
  },
  {
   "cell_type": "code",
   "execution_count": 7,
   "metadata": {
    "colab": {
     "base_uri": "https://localhost:8080/",
     "height": 1000
    },
    "colab_type": "code",
    "id": "jP082zqRn-A0",
    "outputId": "f81685da-6d71-4da9-f5f9-5c01ae6fdc6e",
    "scrolled": true
   },
   "outputs": [],
   "source": [
    "# demonstrate memory leak by repeated reloading\n",
    "num_iters = 1000\n",
    "memory_usage = [0 for j in range(num_iters)]\n",
    "for i in range(num_iters):\n",
    "    # adding clear session doesn't stop the problem\n",
    "    # and not really sure why we need this in TF 2.x?\n",
    "    keras.backend.clear_session()\n",
    "\n",
    "    # load the model\n",
    "    net = tf.saved_model.load('saved_model')\n",
    "    \n",
    "    # ensure that garbage collector runs\n",
    "    gc.collect()\n",
    "\n",
    "    # get resident set size, memory usage, for current process\n",
    "    p = psutil.Process(os.getpid())\n",
    "    cur_memory_usage = p.memory_info().rss / 1024 / 1024\n",
    "    # print(cur_memory_usage)\n",
    "    memory_usage[i] = cur_memory_usage\n",
    "    "
   ]
  },
  {
   "cell_type": "code",
   "execution_count": 8,
   "metadata": {
    "colab": {
     "base_uri": "https://localhost:8080/",
     "height": 295
    },
    "colab_type": "code",
    "id": "zwnKb7PAoGFG",
    "outputId": "a832307d-82bc-4d36-9eaa-1970330febd8"
   },
   "outputs": [
    {
     "data": {
      "text/plain": [
       "Text(0, 0.5, 'Resident Set Size (MB)')"
      ]
     },
     "execution_count": 8,
     "metadata": {},
     "output_type": "execute_result"
    },
    {
     "data": {
      "image/png": "[encoded data removed]",
      "text/plain": [
       "<Figure size 432x288 with 1 Axes>"
      ]
     },
     "metadata": {
      "needs_background": "light"
     },
     "output_type": "display_data"
    }
   ],
   "source": [
    "plt.plot(memory_usage)\n",
    "plt.title('Memory Usage Across Multiple Model Reloads.')\n",
    "plt.xlabel('Trial')\n",
    "plt.ylabel('Resident Set Size (MB)')"
   ]
  },
  {
   "cell_type": "code",
   "execution_count": 9,
   "metadata": {
    "colab": {},
    "colab_type": "code",
    "id": "SzHM0AOWoNUS",
    "scrolled": true
   },
   "outputs": [
    {
     "name": "stdout",
     "output_type": "stream",
     "text": [
      "Memory leak (MB) per trial =  1.7045546875\n"
     ]
    }
   ],
   "source": [
    "print(\"Memory leak (MB) per trial = \", (memory_usage[-1]-memory_usage[0])/1000)"
   ]
  },
  {
   "cell_type": "code",
   "execution_count": null,
   "metadata": {},
   "outputs": [],
   "source": []
  },
  {
   "cell_type": "code",
   "execution_count": null,
   "metadata": {},
   "outputs": [],
   "source": []
  }
 ],
 "metadata": {
  "colab": {
   "authorship_tag": "ABX9TyP4uL89zzNJcq9AxBugvjzA",
   "collapsed_sections": [],
   "include_colab_link": true,
   "name": "tf2_load_mem_leak.ipynb",
   "provenance": []
  },
  "kernelspec": {
   "display_name": "Python 3",
   "language": "python",
   "name": "python3"
  },
  "language_info": {
   "codemirror_mode": {
    "name": "ipython",
    "version": 3
   },
   "file_extension": ".py",
   "mimetype": "text/x-python",
   "name": "python",
   "nbconvert_exporter": "python",
   "pygments_lexer": "ipython3",
   "version": "3.7.1"
  }
 },
 "nbformat": 4,
 "nbformat_minor": 1
}
